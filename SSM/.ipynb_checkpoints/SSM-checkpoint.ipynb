{
 "cells": [
  {
   "cell_type": "code",
   "execution_count": 1,
   "metadata": {},
   "outputs": [],
   "source": [
    "using LinearAlgebra\n",
    "using CSV"
   ]
  },
  {
   "cell_type": "code",
   "execution_count": 1,
   "metadata": {},
   "outputs": [
    {
     "data": {
      "text/plain": [
       "Main.C"
      ]
     },
     "execution_count": 1,
     "metadata": {},
     "output_type": "execute_result"
    }
   ],
   "source": [
    "module C\n",
    "\n",
    "TotalBody=2\n",
    "TotalStep=365\n",
    "StartTime=2440400.5\n",
    "Day=24*60*60\n",
    "dt=1\n",
    "AU=149597870700\n",
    "EarthMass=5.97237e24\n",
    "G=6.67408e-11*(1/Day)^-2*(1/AU)^3*(1/EarthMass)^-1\n",
    "c=299792458\n",
    "\n",
    "end"
   ]
  },
  {
   "cell_type": "code",
   "execution_count": 2,
   "metadata": {},
   "outputs": [
    {
     "data": {
      "text/plain": [
       "* (generic function with 350 methods)"
      ]
     },
     "execution_count": 2,
     "metadata": {},
     "output_type": "execute_result"
    }
   ],
   "source": [
    "mutable struct Body\n",
    "  name    ::String\n",
    "  mass    ::Float64\n",
    "  x       ::Array{Float64,1}\n",
    "  v       ::Array{Float64,1}\n",
    "end\n",
    "\n",
    "\n",
    "\n",
    "mutable struct Step\n",
    "  time    ::Float64\n",
    "  body    ::Array{Body,1}\n",
    "end\n",
    "\n",
    "\n",
    "\n",
    "import Base.+\n",
    "\n",
    "+(step1::Step,step2::Step)=function(step1::Step,step2::Step)\n",
    "  output=step1\n",
    "  output.time =step1.time+step2.time\n",
    "  for i in 1:C.TotalBody\n",
    "    output.body[i].x=step1.body[i].x+step2.body[i].x\n",
    "    output.body[i].v=step1.body[i].v+step2.body[i].v\n",
    "  end\n",
    "  output\n",
    "end\n",
    "\n",
    "\n",
    "\n",
    "import Base.*\n",
    "\n",
    "*(c::Real,step::Step)=function(c::Real,step::Step)\n",
    "  output=step\n",
    "  output.time=c*step.time\n",
    "  for i in 1:C.TotalBody\n",
    "    output.body[i].x=c*output.body[i].x\n",
    "    output.body[i].v=c*output.body[i].v\n",
    "  end\n",
    "  output\n",
    "end\n",
    "\n",
    "\n",
    "\n",
    "tmp1=[]\n",
    "append!(tmp1,C.StartTime)\n",
    "append!(tmp1,[])"
   ]
  },
  {
   "cell_type": "code",
   "execution_count": 3,
   "metadata": {},
   "outputs": [
    {
     "data": {
      "text/plain": [
       "PPN (generic function with 1 method)"
      ]
     },
     "execution_count": 3,
     "metadata": {},
     "output_type": "execute_result"
    }
   ],
   "source": [
    "function forceNewtonby1(test::Body,source::Body)\n",
    "  dx=source.x-test.x\n",
    "  force=C.G*test.mass*source.mass/sqrt(sum(dx.^2))^3*dx\n",
    "end\n",
    "\n",
    "\n",
    "\n",
    "function forceNewtonbyall(step::Step,testnum::Int)\n",
    "  force=[0.,0.,0.]\n",
    "  for i in 1:C.TotalBody\n",
    "    if i==testnum continue end\n",
    "    force=force+forceNewtonby1(step.body[testnum],step.body[i])\n",
    "  end\n",
    "  force\n",
    "end\n",
    "\n",
    "\n",
    "\n",
    "function forcePPN(step::Step,A::Int)\n",
    "  m(i::Int)=step.body[i].mass\n",
    "  x(i::Int)=step.body[i].x\n",
    "  v(i::Int)=step.body[i].v\n",
    "  a(i::Int)=1/m(i)*forceNewtonbyall(step,i) # to be accelerated\n",
    "\n",
    "  r(A::Int,B::Int)=x(B)-x(A)\n",
    "  v(A::Int,B::Int)=v(B)-v(A)\n",
    "  norm_r(A::Int,B::Int)=norm(r(A,B))\n",
    "  norm_v(A::Int,B::Int)=norm(v(A,B))\n",
    "    \n",
    "  function forcePPNby1(step::Step,A::Int,B::Int)\n",
    "    T1 =C.G*m(B)*r(A,B)/norm_r(B,A)^3\n",
    "    T2 =-2*(beta+gamma)/C.c^2*\n",
    "        sum( C.G*m(i)/norm_r(A,i) for i=[1:C.TotalBody;] if i!=A )\n",
    "    T3 =-(2*beta-1)/C.c^2*\n",
    "        sum( C.G*m(i)/norm_r(B,i) for i=[1:C.TotalBody;] if i!=B )\n",
    "    T4 =gamma*(v(A)/C.c)^2\n",
    "    T5 =(1+gamma)*(v(B)/C.c)^2\n",
    "    T6 =-2(1+gamma)/C.c^2*dot(v(A),v(B))\n",
    "    T7 =-3/(2*C.c^2)*(dot(r(B,A),v(B))/norm_r(A,B))^2\n",
    "    T8 =1/(2*C.c^2)*dot(r(A,B),a(B))\n",
    "    T9 =1/C.c^2*C.G*m(B)/norm_r(A,B)^3*\n",
    "        dot(r(B,A),(2+2*gamma)*v(A)-(1+2*gamma)*v(B))*v(B,A)\n",
    "    T10=(3+4*gamma)/(2*C.c^2)*C.G*m(B)/r(A,B)*a(B)\n",
    "    acceleration=T1*(1+T2+T3+T4+T5+T6+T7+T8)+T9+T10\n",
    "  end\n",
    "\n",
    "  sum(forcePPNby1(step,A,B) for B=[1:C.TotalBody;] if B!=A)\n",
    "end"
   ]
  },
  {
   "cell_type": "code",
   "execution_count": 4,
   "metadata": {},
   "outputs": [
    {
     "ename": "UndefVarError",
     "evalue": "UndefVarError: state not defined",
     "output_type": "error",
     "traceback": [
      "UndefVarError: state not defined",
      ""
     ]
    }
   ],
   "source": [
    "function dstep(thestep::Step,dt::Float64)\n",
    "  tmp=thestep\n",
    "  tmp.time=dt\n",
    "  for i in 1:C.TotalBody\n",
    "    force=gravity.Newton_byall(i,thestep)\n",
    "    tmp.body[i].x=thestep.body[i].v*dt\n",
    "    tmp.body[i].v=1/thestep.body[i].mass*force*dt\n",
    "  end\n",
    "  tmp\n",
    "end\n",
    "\n",
    "\n",
    "\n",
    "function rk4(thestep::Step,dt::Float64)\n",
    "  # k1=f(t,y)dt\n",
    "  k1 =fdt(currentStep,dt)\n",
    "\n",
    "  # k2=f(t+dt/2,y+k1/2)dt\n",
    "  k2 =fdt()\n",
    "\n",
    "  # k3=f(t+dt/2,y+k2/2)dt\n",
    "  k3\n",
    "\n",
    "  # k4=f(t+dt,y+k3)dt\n",
    "  k4\n",
    "\n",
    "  # dy=(k1+2k2+2k3+k4)/6\n",
    "end"
   ]
  }
 ],
 "metadata": {
  "kernelspec": {
   "display_name": "Julia 1.1.0",
   "language": "julia",
   "name": "julia-1.1"
  },
  "language_info": {
   "file_extension": ".jl",
   "mimetype": "application/julia",
   "name": "julia",
   "version": "1.1.0"
  }
 },
 "nbformat": 4,
 "nbformat_minor": 2
}
